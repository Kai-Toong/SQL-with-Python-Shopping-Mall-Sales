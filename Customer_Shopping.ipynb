{
 "cells": [
  {
   "cell_type": "markdown",
   "id": "2f6f0f89",
   "metadata": {},
   "source": [
    "## Install necessary modules"
   ]
  },
  {
   "cell_type": "code",
   "execution_count": 4,
   "id": "d9324d0b",
   "metadata": {},
   "outputs": [],
   "source": [
    "#pip install -q pandas==1.1.5\n",
    "#pip install ipython-sql"
   ]
  },
  {
   "cell_type": "markdown",
   "id": "8d5bc37d",
   "metadata": {},
   "source": [
    "## Import relevant modules and connect to a new database"
   ]
  },
  {
   "cell_type": "code",
   "execution_count": 5,
   "id": "bd2420c8",
   "metadata": {},
   "outputs": [],
   "source": [
    "import csv, sqlite3, pandas as pd\n",
    " \n",
    "con = sqlite3.connect(\"Customer_Shopping_DB.db\")\n",
    "cur = con.cursor()"
   ]
  },
  {
   "cell_type": "markdown",
   "id": "593b0a72",
   "metadata": {},
   "source": [
    "## Load the SQL extension in Jupyter Notebooks"
   ]
  },
  {
   "cell_type": "code",
   "execution_count": 6,
   "id": "23ff14ae",
   "metadata": {},
   "outputs": [],
   "source": [
    "%load_ext sql"
   ]
  },
  {
   "cell_type": "markdown",
   "id": "577a4751",
   "metadata": {},
   "source": [
    "## Establish a connection between SQL magic module and the database \"Customer_Shopping_DB.db\""
   ]
  },
  {
   "cell_type": "code",
   "execution_count": 7,
   "id": "fa25c931",
   "metadata": {},
   "outputs": [],
   "source": [
    "%sql sqlite:///Customer_Shopping_DB.db"
   ]
  },
  {
   "cell_type": "markdown",
   "id": "7134361f",
   "metadata": {},
   "source": [
    "## Load CSV file into a dataframe "
   ]
  },
  {
   "cell_type": "code",
   "execution_count": 8,
   "id": "dfedb527",
   "metadata": {},
   "outputs": [
    {
     "data": {
      "text/html": [
       "<div>\n",
       "<style scoped>\n",
       "    .dataframe tbody tr th:only-of-type {\n",
       "        vertical-align: middle;\n",
       "    }\n",
       "\n",
       "    .dataframe tbody tr th {\n",
       "        vertical-align: top;\n",
       "    }\n",
       "\n",
       "    .dataframe thead th {\n",
       "        text-align: right;\n",
       "    }\n",
       "</style>\n",
       "<table border=\"1\" class=\"dataframe\">\n",
       "  <thead>\n",
       "    <tr style=\"text-align: right;\">\n",
       "      <th></th>\n",
       "      <th>invoice_no</th>\n",
       "      <th>customer_id</th>\n",
       "      <th>gender</th>\n",
       "      <th>age</th>\n",
       "      <th>category</th>\n",
       "      <th>quantity</th>\n",
       "      <th>price</th>\n",
       "      <th>payment_method</th>\n",
       "      <th>invoice_date</th>\n",
       "      <th>shopping_mall</th>\n",
       "    </tr>\n",
       "  </thead>\n",
       "  <tbody>\n",
       "    <tr>\n",
       "      <th>0</th>\n",
       "      <td>I138884</td>\n",
       "      <td>C241288</td>\n",
       "      <td>Female</td>\n",
       "      <td>28</td>\n",
       "      <td>Clothing</td>\n",
       "      <td>5</td>\n",
       "      <td>1500.40</td>\n",
       "      <td>Credit Card</td>\n",
       "      <td>5/8/2022</td>\n",
       "      <td>Kanyon</td>\n",
       "    </tr>\n",
       "    <tr>\n",
       "      <th>1</th>\n",
       "      <td>I317333</td>\n",
       "      <td>C111565</td>\n",
       "      <td>Male</td>\n",
       "      <td>21</td>\n",
       "      <td>Shoes</td>\n",
       "      <td>3</td>\n",
       "      <td>1800.51</td>\n",
       "      <td>Debit Card</td>\n",
       "      <td>12/12/2021</td>\n",
       "      <td>Forum Istanbul</td>\n",
       "    </tr>\n",
       "    <tr>\n",
       "      <th>2</th>\n",
       "      <td>I127801</td>\n",
       "      <td>C266599</td>\n",
       "      <td>Male</td>\n",
       "      <td>20</td>\n",
       "      <td>Clothing</td>\n",
       "      <td>1</td>\n",
       "      <td>300.08</td>\n",
       "      <td>Cash</td>\n",
       "      <td>9/11/2021</td>\n",
       "      <td>Metrocity</td>\n",
       "    </tr>\n",
       "    <tr>\n",
       "      <th>3</th>\n",
       "      <td>I173702</td>\n",
       "      <td>C988172</td>\n",
       "      <td>Female</td>\n",
       "      <td>66</td>\n",
       "      <td>Shoes</td>\n",
       "      <td>5</td>\n",
       "      <td>3000.85</td>\n",
       "      <td>Credit Card</td>\n",
       "      <td>16/05/2021</td>\n",
       "      <td>Metropol AVM</td>\n",
       "    </tr>\n",
       "    <tr>\n",
       "      <th>4</th>\n",
       "      <td>I337046</td>\n",
       "      <td>C189076</td>\n",
       "      <td>Female</td>\n",
       "      <td>53</td>\n",
       "      <td>Books</td>\n",
       "      <td>4</td>\n",
       "      <td>60.60</td>\n",
       "      <td>Cash</td>\n",
       "      <td>24/10/2021</td>\n",
       "      <td>Kanyon</td>\n",
       "    </tr>\n",
       "    <tr>\n",
       "      <th>...</th>\n",
       "      <td>...</td>\n",
       "      <td>...</td>\n",
       "      <td>...</td>\n",
       "      <td>...</td>\n",
       "      <td>...</td>\n",
       "      <td>...</td>\n",
       "      <td>...</td>\n",
       "      <td>...</td>\n",
       "      <td>...</td>\n",
       "      <td>...</td>\n",
       "    </tr>\n",
       "    <tr>\n",
       "      <th>99452</th>\n",
       "      <td>I219422</td>\n",
       "      <td>C441542</td>\n",
       "      <td>Female</td>\n",
       "      <td>45</td>\n",
       "      <td>Souvenir</td>\n",
       "      <td>5</td>\n",
       "      <td>58.65</td>\n",
       "      <td>Credit Card</td>\n",
       "      <td>21/09/2022</td>\n",
       "      <td>Kanyon</td>\n",
       "    </tr>\n",
       "    <tr>\n",
       "      <th>99453</th>\n",
       "      <td>I325143</td>\n",
       "      <td>C569580</td>\n",
       "      <td>Male</td>\n",
       "      <td>27</td>\n",
       "      <td>Food &amp; Beverage</td>\n",
       "      <td>2</td>\n",
       "      <td>10.46</td>\n",
       "      <td>Cash</td>\n",
       "      <td>22/09/2021</td>\n",
       "      <td>Forum Istanbul</td>\n",
       "    </tr>\n",
       "    <tr>\n",
       "      <th>99454</th>\n",
       "      <td>I824010</td>\n",
       "      <td>C103292</td>\n",
       "      <td>Male</td>\n",
       "      <td>63</td>\n",
       "      <td>Food &amp; Beverage</td>\n",
       "      <td>2</td>\n",
       "      <td>10.46</td>\n",
       "      <td>Debit Card</td>\n",
       "      <td>28/03/2021</td>\n",
       "      <td>Metrocity</td>\n",
       "    </tr>\n",
       "    <tr>\n",
       "      <th>99455</th>\n",
       "      <td>I702964</td>\n",
       "      <td>C800631</td>\n",
       "      <td>Male</td>\n",
       "      <td>56</td>\n",
       "      <td>Technology</td>\n",
       "      <td>4</td>\n",
       "      <td>4200.00</td>\n",
       "      <td>Cash</td>\n",
       "      <td>16/03/2021</td>\n",
       "      <td>Istinye Park</td>\n",
       "    </tr>\n",
       "    <tr>\n",
       "      <th>99456</th>\n",
       "      <td>I232867</td>\n",
       "      <td>C273973</td>\n",
       "      <td>Female</td>\n",
       "      <td>36</td>\n",
       "      <td>Souvenir</td>\n",
       "      <td>3</td>\n",
       "      <td>35.19</td>\n",
       "      <td>Credit Card</td>\n",
       "      <td>15/10/2022</td>\n",
       "      <td>Mall of Istanbul</td>\n",
       "    </tr>\n",
       "  </tbody>\n",
       "</table>\n",
       "<p>99457 rows × 10 columns</p>\n",
       "</div>"
      ],
      "text/plain": [
       "      invoice_no customer_id  gender  age         category  quantity    price  \\\n",
       "0        I138884     C241288  Female   28         Clothing         5  1500.40   \n",
       "1        I317333     C111565    Male   21            Shoes         3  1800.51   \n",
       "2        I127801     C266599    Male   20         Clothing         1   300.08   \n",
       "3        I173702     C988172  Female   66            Shoes         5  3000.85   \n",
       "4        I337046     C189076  Female   53            Books         4    60.60   \n",
       "...          ...         ...     ...  ...              ...       ...      ...   \n",
       "99452    I219422     C441542  Female   45         Souvenir         5    58.65   \n",
       "99453    I325143     C569580    Male   27  Food & Beverage         2    10.46   \n",
       "99454    I824010     C103292    Male   63  Food & Beverage         2    10.46   \n",
       "99455    I702964     C800631    Male   56       Technology         4  4200.00   \n",
       "99456    I232867     C273973  Female   36         Souvenir         3    35.19   \n",
       "\n",
       "      payment_method invoice_date     shopping_mall  \n",
       "0        Credit Card     5/8/2022            Kanyon  \n",
       "1         Debit Card   12/12/2021    Forum Istanbul  \n",
       "2               Cash    9/11/2021         Metrocity  \n",
       "3        Credit Card   16/05/2021      Metropol AVM  \n",
       "4               Cash   24/10/2021            Kanyon  \n",
       "...              ...          ...               ...  \n",
       "99452    Credit Card   21/09/2022            Kanyon  \n",
       "99453           Cash   22/09/2021    Forum Istanbul  \n",
       "99454     Debit Card   28/03/2021         Metrocity  \n",
       "99455           Cash   16/03/2021      Istinye Park  \n",
       "99456    Credit Card   15/10/2022  Mall of Istanbul  \n",
       "\n",
       "[99457 rows x 10 columns]"
      ]
     },
     "execution_count": 8,
     "metadata": {},
     "output_type": "execute_result"
    }
   ],
   "source": [
    "customer_shopping_data = \"customer_shopping_data.csv\"\n",
    "df = pd.read_csv(customer_shopping_data)\n",
    "df"
   ]
  },
  {
   "cell_type": "markdown",
   "id": "edb39d45",
   "metadata": {},
   "source": [
    "## Check for missing values"
   ]
  },
  {
   "cell_type": "code",
   "execution_count": 9,
   "id": "2df9a62d",
   "metadata": {},
   "outputs": [
    {
     "name": "stdout",
     "output_type": "stream",
     "text": [
      "Missing values in each column:\n"
     ]
    },
    {
     "data": {
      "text/plain": [
       "invoice_no        0\n",
       "customer_id       0\n",
       "gender            0\n",
       "age               0\n",
       "category          0\n",
       "quantity          0\n",
       "price             0\n",
       "payment_method    0\n",
       "invoice_date      0\n",
       "shopping_mall     0\n",
       "dtype: int64"
      ]
     },
     "metadata": {},
     "output_type": "display_data"
    }
   ],
   "source": [
    "missing_values = df.isnull().sum()\n",
    "print(\"Missing values in each column:\")\n",
    "display(missing_values)"
   ]
  },
  {
   "cell_type": "markdown",
   "id": "b48467de",
   "metadata": {},
   "source": [
    "## Check for duplicates"
   ]
  },
  {
   "cell_type": "code",
   "execution_count": 10,
   "id": "ab64ec54",
   "metadata": {},
   "outputs": [
    {
     "name": "stdout",
     "output_type": "stream",
     "text": [
      "Duplicate rows:\n"
     ]
    },
    {
     "data": {
      "text/html": [
       "<div>\n",
       "<style scoped>\n",
       "    .dataframe tbody tr th:only-of-type {\n",
       "        vertical-align: middle;\n",
       "    }\n",
       "\n",
       "    .dataframe tbody tr th {\n",
       "        vertical-align: top;\n",
       "    }\n",
       "\n",
       "    .dataframe thead th {\n",
       "        text-align: right;\n",
       "    }\n",
       "</style>\n",
       "<table border=\"1\" class=\"dataframe\">\n",
       "  <thead>\n",
       "    <tr style=\"text-align: right;\">\n",
       "      <th></th>\n",
       "      <th>invoice_no</th>\n",
       "      <th>customer_id</th>\n",
       "      <th>gender</th>\n",
       "      <th>age</th>\n",
       "      <th>category</th>\n",
       "      <th>quantity</th>\n",
       "      <th>price</th>\n",
       "      <th>payment_method</th>\n",
       "      <th>invoice_date</th>\n",
       "      <th>shopping_mall</th>\n",
       "    </tr>\n",
       "  </thead>\n",
       "  <tbody>\n",
       "  </tbody>\n",
       "</table>\n",
       "</div>"
      ],
      "text/plain": [
       "Empty DataFrame\n",
       "Columns: [invoice_no, customer_id, gender, age, category, quantity, price, payment_method, invoice_date, shopping_mall]\n",
       "Index: []"
      ]
     },
     "metadata": {},
     "output_type": "display_data"
    }
   ],
   "source": [
    "duplicate_rows = df[df.duplicated()]\n",
    "print(\"Duplicate rows:\")\n",
    "display(duplicate_rows)"
   ]
  },
  {
   "cell_type": "markdown",
   "id": "206f35e8",
   "metadata": {},
   "source": [
    "## Data formatting"
   ]
  },
  {
   "cell_type": "code",
   "execution_count": 11,
   "id": "8c92cec4",
   "metadata": {},
   "outputs": [
    {
     "data": {
      "text/html": [
       "<div>\n",
       "<style scoped>\n",
       "    .dataframe tbody tr th:only-of-type {\n",
       "        vertical-align: middle;\n",
       "    }\n",
       "\n",
       "    .dataframe tbody tr th {\n",
       "        vertical-align: top;\n",
       "    }\n",
       "\n",
       "    .dataframe thead th {\n",
       "        text-align: right;\n",
       "    }\n",
       "</style>\n",
       "<table border=\"1\" class=\"dataframe\">\n",
       "  <thead>\n",
       "    <tr style=\"text-align: right;\">\n",
       "      <th></th>\n",
       "      <th>invoice_no</th>\n",
       "      <th>customer_id</th>\n",
       "      <th>gender</th>\n",
       "      <th>age</th>\n",
       "      <th>category</th>\n",
       "      <th>quantity</th>\n",
       "      <th>price</th>\n",
       "      <th>payment_method</th>\n",
       "      <th>invoice_date</th>\n",
       "      <th>shopping_mall</th>\n",
       "    </tr>\n",
       "  </thead>\n",
       "  <tbody>\n",
       "    <tr>\n",
       "      <th>0</th>\n",
       "      <td>I138884</td>\n",
       "      <td>C241288</td>\n",
       "      <td>Female</td>\n",
       "      <td>28</td>\n",
       "      <td>Clothing</td>\n",
       "      <td>5</td>\n",
       "      <td>1500.40</td>\n",
       "      <td>Credit Card</td>\n",
       "      <td>2022-08-05</td>\n",
       "      <td>Kanyon</td>\n",
       "    </tr>\n",
       "    <tr>\n",
       "      <th>1</th>\n",
       "      <td>I317333</td>\n",
       "      <td>C111565</td>\n",
       "      <td>Male</td>\n",
       "      <td>21</td>\n",
       "      <td>Shoes</td>\n",
       "      <td>3</td>\n",
       "      <td>1800.51</td>\n",
       "      <td>Debit Card</td>\n",
       "      <td>2021-12-12</td>\n",
       "      <td>Forum Istanbul</td>\n",
       "    </tr>\n",
       "    <tr>\n",
       "      <th>2</th>\n",
       "      <td>I127801</td>\n",
       "      <td>C266599</td>\n",
       "      <td>Male</td>\n",
       "      <td>20</td>\n",
       "      <td>Clothing</td>\n",
       "      <td>1</td>\n",
       "      <td>300.08</td>\n",
       "      <td>Cash</td>\n",
       "      <td>2021-11-09</td>\n",
       "      <td>Metrocity</td>\n",
       "    </tr>\n",
       "    <tr>\n",
       "      <th>3</th>\n",
       "      <td>I173702</td>\n",
       "      <td>C988172</td>\n",
       "      <td>Female</td>\n",
       "      <td>66</td>\n",
       "      <td>Shoes</td>\n",
       "      <td>5</td>\n",
       "      <td>3000.85</td>\n",
       "      <td>Credit Card</td>\n",
       "      <td>2021-05-16</td>\n",
       "      <td>Metropol AVM</td>\n",
       "    </tr>\n",
       "    <tr>\n",
       "      <th>4</th>\n",
       "      <td>I337046</td>\n",
       "      <td>C189076</td>\n",
       "      <td>Female</td>\n",
       "      <td>53</td>\n",
       "      <td>Books</td>\n",
       "      <td>4</td>\n",
       "      <td>60.60</td>\n",
       "      <td>Cash</td>\n",
       "      <td>2021-10-24</td>\n",
       "      <td>Kanyon</td>\n",
       "    </tr>\n",
       "    <tr>\n",
       "      <th>...</th>\n",
       "      <td>...</td>\n",
       "      <td>...</td>\n",
       "      <td>...</td>\n",
       "      <td>...</td>\n",
       "      <td>...</td>\n",
       "      <td>...</td>\n",
       "      <td>...</td>\n",
       "      <td>...</td>\n",
       "      <td>...</td>\n",
       "      <td>...</td>\n",
       "    </tr>\n",
       "    <tr>\n",
       "      <th>99452</th>\n",
       "      <td>I219422</td>\n",
       "      <td>C441542</td>\n",
       "      <td>Female</td>\n",
       "      <td>45</td>\n",
       "      <td>Souvenir</td>\n",
       "      <td>5</td>\n",
       "      <td>58.65</td>\n",
       "      <td>Credit Card</td>\n",
       "      <td>2022-09-21</td>\n",
       "      <td>Kanyon</td>\n",
       "    </tr>\n",
       "    <tr>\n",
       "      <th>99453</th>\n",
       "      <td>I325143</td>\n",
       "      <td>C569580</td>\n",
       "      <td>Male</td>\n",
       "      <td>27</td>\n",
       "      <td>Food &amp; Beverage</td>\n",
       "      <td>2</td>\n",
       "      <td>10.46</td>\n",
       "      <td>Cash</td>\n",
       "      <td>2021-09-22</td>\n",
       "      <td>Forum Istanbul</td>\n",
       "    </tr>\n",
       "    <tr>\n",
       "      <th>99454</th>\n",
       "      <td>I824010</td>\n",
       "      <td>C103292</td>\n",
       "      <td>Male</td>\n",
       "      <td>63</td>\n",
       "      <td>Food &amp; Beverage</td>\n",
       "      <td>2</td>\n",
       "      <td>10.46</td>\n",
       "      <td>Debit Card</td>\n",
       "      <td>2021-03-28</td>\n",
       "      <td>Metrocity</td>\n",
       "    </tr>\n",
       "    <tr>\n",
       "      <th>99455</th>\n",
       "      <td>I702964</td>\n",
       "      <td>C800631</td>\n",
       "      <td>Male</td>\n",
       "      <td>56</td>\n",
       "      <td>Technology</td>\n",
       "      <td>4</td>\n",
       "      <td>4200.00</td>\n",
       "      <td>Cash</td>\n",
       "      <td>2021-03-16</td>\n",
       "      <td>Istinye Park</td>\n",
       "    </tr>\n",
       "    <tr>\n",
       "      <th>99456</th>\n",
       "      <td>I232867</td>\n",
       "      <td>C273973</td>\n",
       "      <td>Female</td>\n",
       "      <td>36</td>\n",
       "      <td>Souvenir</td>\n",
       "      <td>3</td>\n",
       "      <td>35.19</td>\n",
       "      <td>Credit Card</td>\n",
       "      <td>2022-10-15</td>\n",
       "      <td>Mall of Istanbul</td>\n",
       "    </tr>\n",
       "  </tbody>\n",
       "</table>\n",
       "<p>99457 rows × 10 columns</p>\n",
       "</div>"
      ],
      "text/plain": [
       "      invoice_no customer_id  gender  age         category  quantity    price  \\\n",
       "0        I138884     C241288  Female   28         Clothing         5  1500.40   \n",
       "1        I317333     C111565    Male   21            Shoes         3  1800.51   \n",
       "2        I127801     C266599    Male   20         Clothing         1   300.08   \n",
       "3        I173702     C988172  Female   66            Shoes         5  3000.85   \n",
       "4        I337046     C189076  Female   53            Books         4    60.60   \n",
       "...          ...         ...     ...  ...              ...       ...      ...   \n",
       "99452    I219422     C441542  Female   45         Souvenir         5    58.65   \n",
       "99453    I325143     C569580    Male   27  Food & Beverage         2    10.46   \n",
       "99454    I824010     C103292    Male   63  Food & Beverage         2    10.46   \n",
       "99455    I702964     C800631    Male   56       Technology         4  4200.00   \n",
       "99456    I232867     C273973  Female   36         Souvenir         3    35.19   \n",
       "\n",
       "      payment_method invoice_date     shopping_mall  \n",
       "0        Credit Card   2022-08-05            Kanyon  \n",
       "1         Debit Card   2021-12-12    Forum Istanbul  \n",
       "2               Cash   2021-11-09         Metrocity  \n",
       "3        Credit Card   2021-05-16      Metropol AVM  \n",
       "4               Cash   2021-10-24            Kanyon  \n",
       "...              ...          ...               ...  \n",
       "99452    Credit Card   2022-09-21            Kanyon  \n",
       "99453           Cash   2021-09-22    Forum Istanbul  \n",
       "99454     Debit Card   2021-03-28         Metrocity  \n",
       "99455           Cash   2021-03-16      Istinye Park  \n",
       "99456    Credit Card   2022-10-15  Mall of Istanbul  \n",
       "\n",
       "[99457 rows x 10 columns]"
      ]
     },
     "execution_count": 11,
     "metadata": {},
     "output_type": "execute_result"
    }
   ],
   "source": [
    "df['price'] = df['price'].round(2) #Change \"price\" to 2 decimal place\n",
    "df['invoice_date'] = pd.to_datetime(df['invoice_date'], format='%d/%m/%Y') #Transform \"invoice_date\" to date format\n",
    "df"
   ]
  },
  {
   "cell_type": "markdown",
   "id": "26ce772e",
   "metadata": {},
   "source": [
    "## Input cleaned dataframe as a table \"CUSTOMER_SHOPPING_DATA\" into the database "
   ]
  },
  {
   "cell_type": "code",
   "execution_count": 12,
   "id": "f5beecfd",
   "metadata": {},
   "outputs": [],
   "source": [
    "df.to_sql(\"CUSTOMER_SHOPPING_DATA\", con, if_exists='replace', index=False,method=\"multi\", chunksize=50)"
   ]
  },
  {
   "cell_type": "markdown",
   "id": "c5515704",
   "metadata": {},
   "source": [
    "## Check if the table is created"
   ]
  },
  {
   "cell_type": "code",
   "execution_count": 13,
   "id": "8e7a9d58",
   "metadata": {},
   "outputs": [
    {
     "name": "stdout",
     "output_type": "stream",
     "text": [
      " * sqlite:///Customer_Shopping_DB.db\n",
      "Done.\n"
     ]
    },
    {
     "data": {
      "text/html": [
       "<table>\n",
       "    <thead>\n",
       "        <tr>\n",
       "            <th>name</th>\n",
       "        </tr>\n",
       "    </thead>\n",
       "    <tbody>\n",
       "        <tr>\n",
       "            <td>CUSTOMER_SHOPPING_DATA</td>\n",
       "        </tr>\n",
       "    </tbody>\n",
       "</table>"
      ],
      "text/plain": [
       "[('CUSTOMER_SHOPPING_DATA',)]"
      ]
     },
     "execution_count": 13,
     "metadata": {},
     "output_type": "execute_result"
    }
   ],
   "source": [
    "%sql SELECT name FROM sqlite_master WHERE type='table'"
   ]
  },
  {
   "cell_type": "markdown",
   "id": "3d693e38",
   "metadata": {},
   "source": [
    "## Check if the number of rows tallies with the CSV file"
   ]
  },
  {
   "cell_type": "code",
   "execution_count": 14,
   "id": "0d8d2fc5",
   "metadata": {},
   "outputs": [
    {
     "name": "stdout",
     "output_type": "stream",
     "text": [
      " * sqlite:///Customer_Shopping_DB.db\n",
      "Done.\n"
     ]
    },
    {
     "data": {
      "text/html": [
       "<table>\n",
       "    <thead>\n",
       "        <tr>\n",
       "            <th>COUNT(*)</th>\n",
       "        </tr>\n",
       "    </thead>\n",
       "    <tbody>\n",
       "        <tr>\n",
       "            <td>99457</td>\n",
       "        </tr>\n",
       "    </tbody>\n",
       "</table>"
      ],
      "text/plain": [
       "[(99457,)]"
      ]
     },
     "execution_count": 14,
     "metadata": {},
     "output_type": "execute_result"
    }
   ],
   "source": [
    "%sql SELECT COUNT(*) FROM CUSTOMER_SHOPPING_DATA;"
   ]
  },
  {
   "cell_type": "markdown",
   "id": "e1f0be0a",
   "metadata": {},
   "source": [
    "## Display top 5 rows of the table as a preview"
   ]
  },
  {
   "cell_type": "code",
   "execution_count": 15,
   "id": "b460dfda",
   "metadata": {},
   "outputs": [
    {
     "name": "stdout",
     "output_type": "stream",
     "text": [
      " * sqlite:///Customer_Shopping_DB.db\n",
      "Done.\n"
     ]
    },
    {
     "data": {
      "text/html": [
       "<table>\n",
       "    <thead>\n",
       "        <tr>\n",
       "            <th>invoice_no</th>\n",
       "            <th>customer_id</th>\n",
       "            <th>gender</th>\n",
       "            <th>age</th>\n",
       "            <th>category</th>\n",
       "            <th>quantity</th>\n",
       "            <th>price</th>\n",
       "            <th>payment_method</th>\n",
       "            <th>invoice_date</th>\n",
       "            <th>shopping_mall</th>\n",
       "        </tr>\n",
       "    </thead>\n",
       "    <tbody>\n",
       "        <tr>\n",
       "            <td>I138884</td>\n",
       "            <td>C241288</td>\n",
       "            <td>Female</td>\n",
       "            <td>28</td>\n",
       "            <td>Clothing</td>\n",
       "            <td>5</td>\n",
       "            <td>1500.4</td>\n",
       "            <td>Credit Card</td>\n",
       "            <td>2022-08-05 00:00:00</td>\n",
       "            <td>Kanyon</td>\n",
       "        </tr>\n",
       "        <tr>\n",
       "            <td>I317333</td>\n",
       "            <td>C111565</td>\n",
       "            <td>Male</td>\n",
       "            <td>21</td>\n",
       "            <td>Shoes</td>\n",
       "            <td>3</td>\n",
       "            <td>1800.51</td>\n",
       "            <td>Debit Card</td>\n",
       "            <td>2021-12-12 00:00:00</td>\n",
       "            <td>Forum Istanbul</td>\n",
       "        </tr>\n",
       "        <tr>\n",
       "            <td>I127801</td>\n",
       "            <td>C266599</td>\n",
       "            <td>Male</td>\n",
       "            <td>20</td>\n",
       "            <td>Clothing</td>\n",
       "            <td>1</td>\n",
       "            <td>300.08</td>\n",
       "            <td>Cash</td>\n",
       "            <td>2021-11-09 00:00:00</td>\n",
       "            <td>Metrocity</td>\n",
       "        </tr>\n",
       "        <tr>\n",
       "            <td>I173702</td>\n",
       "            <td>C988172</td>\n",
       "            <td>Female</td>\n",
       "            <td>66</td>\n",
       "            <td>Shoes</td>\n",
       "            <td>5</td>\n",
       "            <td>3000.85</td>\n",
       "            <td>Credit Card</td>\n",
       "            <td>2021-05-16 00:00:00</td>\n",
       "            <td>Metropol AVM</td>\n",
       "        </tr>\n",
       "        <tr>\n",
       "            <td>I337046</td>\n",
       "            <td>C189076</td>\n",
       "            <td>Female</td>\n",
       "            <td>53</td>\n",
       "            <td>Books</td>\n",
       "            <td>4</td>\n",
       "            <td>60.6</td>\n",
       "            <td>Cash</td>\n",
       "            <td>2021-10-24 00:00:00</td>\n",
       "            <td>Kanyon</td>\n",
       "        </tr>\n",
       "    </tbody>\n",
       "</table>"
      ],
      "text/plain": [
       "[('I138884', 'C241288', 'Female', 28, 'Clothing', 5, 1500.4, 'Credit Card', '2022-08-05 00:00:00', 'Kanyon'),\n",
       " ('I317333', 'C111565', 'Male', 21, 'Shoes', 3, 1800.51, 'Debit Card', '2021-12-12 00:00:00', 'Forum Istanbul'),\n",
       " ('I127801', 'C266599', 'Male', 20, 'Clothing', 1, 300.08, 'Cash', '2021-11-09 00:00:00', 'Metrocity'),\n",
       " ('I173702', 'C988172', 'Female', 66, 'Shoes', 5, 3000.85, 'Credit Card', '2021-05-16 00:00:00', 'Metropol AVM'),\n",
       " ('I337046', 'C189076', 'Female', 53, 'Books', 4, 60.6, 'Cash', '2021-10-24 00:00:00', 'Kanyon')]"
      ]
     },
     "execution_count": 15,
     "metadata": {},
     "output_type": "execute_result"
    }
   ],
   "source": [
    "%sql SELECT * FROM CUSTOMER_SHOPPING_DATA LIMIT 5;"
   ]
  },
  {
   "cell_type": "markdown",
   "id": "bd20f915",
   "metadata": {},
   "source": [
    "# Questions to Consider\n",
    "## Q1: What is the total number of invoices and sales based on gender?"
   ]
  },
  {
   "cell_type": "code",
   "execution_count": 16,
   "id": "f302a2a2",
   "metadata": {},
   "outputs": [
    {
     "name": "stdout",
     "output_type": "stream",
     "text": [
      " * sqlite:///Customer_Shopping_DB.db\n",
      "Done.\n"
     ]
    },
    {
     "data": {
      "text/html": [
       "<table>\n",
       "    <thead>\n",
       "        <tr>\n",
       "            <th>gender</th>\n",
       "            <th>total_invoices</th>\n",
       "            <th>total_sales</th>\n",
       "        </tr>\n",
       "    </thead>\n",
       "    <tbody>\n",
       "        <tr>\n",
       "            <td>Female</td>\n",
       "            <td>59482</td>\n",
       "            <td>40931801.62</td>\n",
       "        </tr>\n",
       "        <tr>\n",
       "            <td>Male</td>\n",
       "            <td>39975</td>\n",
       "            <td>27619564.29</td>\n",
       "        </tr>\n",
       "    </tbody>\n",
       "</table>"
      ],
      "text/plain": [
       "[('Female', 59482, 40931801.62), ('Male', 39975, 27619564.29)]"
      ]
     },
     "execution_count": 16,
     "metadata": {},
     "output_type": "execute_result"
    }
   ],
   "source": [
    "%%sql SELECT gender, COUNT(*) AS total_invoices, ROUND(sum(price), 2) AS total_sales FROM CUSTOMER_SHOPPING_DATA \n",
    "GROUP BY gender;"
   ]
  },
  {
   "cell_type": "markdown",
   "id": "c14d4003",
   "metadata": {},
   "source": [
    "## Q2: What is the total number of invoices and sales based on age range? Rank them from highest to lowest sales."
   ]
  },
  {
   "cell_type": "code",
   "execution_count": 17,
   "id": "6cfc4a50",
   "metadata": {},
   "outputs": [
    {
     "name": "stdout",
     "output_type": "stream",
     "text": [
      " * sqlite:///Customer_Shopping_DB.db\n",
      "Done.\n"
     ]
    },
    {
     "data": {
      "text/html": [
       "<table>\n",
       "    <thead>\n",
       "        <tr>\n",
       "            <th>age_range</th>\n",
       "            <th>total_invoices</th>\n",
       "            <th>total_sales</th>\n",
       "        </tr>\n",
       "    </thead>\n",
       "    <tbody>\n",
       "        <tr>\n",
       "            <td>40-49</td>\n",
       "            <td>19153</td>\n",
       "            <td>13376514.35</td>\n",
       "        </tr>\n",
       "        <tr>\n",
       "            <td>20-29</td>\n",
       "            <td>19263</td>\n",
       "            <td>13324658.44</td>\n",
       "        </tr>\n",
       "        <tr>\n",
       "            <td>30-39</td>\n",
       "            <td>19287</td>\n",
       "            <td>13245827.96</td>\n",
       "        </tr>\n",
       "        <tr>\n",
       "            <td>60-69</td>\n",
       "            <td>19043</td>\n",
       "            <td>13160725.05</td>\n",
       "        </tr>\n",
       "        <tr>\n",
       "            <td>50-59</td>\n",
       "            <td>18931</td>\n",
       "            <td>12937020.02</td>\n",
       "        </tr>\n",
       "        <tr>\n",
       "            <td>0-19</td>\n",
       "            <td>3780</td>\n",
       "            <td>2506620.09</td>\n",
       "        </tr>\n",
       "    </tbody>\n",
       "</table>"
      ],
      "text/plain": [
       "[('40-49', 19153, 13376514.35),\n",
       " ('20-29', 19263, 13324658.44),\n",
       " ('30-39', 19287, 13245827.96),\n",
       " ('60-69', 19043, 13160725.05),\n",
       " ('50-59', 18931, 12937020.02),\n",
       " ('0-19', 3780, 2506620.09)]"
      ]
     },
     "execution_count": 17,
     "metadata": {},
     "output_type": "execute_result"
    }
   ],
   "source": [
    "%%sql\n",
    "SELECT \n",
    "    CASE\n",
    "        WHEN age BETWEEN 0 AND 19 THEN '0-19'\n",
    "        WHEN age BETWEEN 20 AND 29 THEN '20-29'\n",
    "        WHEN age BETWEEN 30 AND 39 THEN '30-39'\n",
    "        WHEN age BETWEEN 40 AND 49 THEN '40-49'\n",
    "        WHEN age BETWEEN 50 AND 59 THEN '50-59'\n",
    "        WHEN age BETWEEN 60 AND 69 THEN '60-69'\n",
    "        WHEN age BETWEEN 70 AND 79 THEN '70-79'\n",
    "        WHEN age BETWEEN 80 AND 89 THEN '80-89'\n",
    "        WHEN age >= 90 THEN '90+'\n",
    "    END AS age_range, \n",
    "    COUNT(*) AS total_invoices, \n",
    "    ROUND(SUM(price), 2) AS total_sales \n",
    "FROM CUSTOMER_SHOPPING_DATA \n",
    "GROUP BY age_range\n",
    "ORDER BY total_sales DESC;"
   ]
  },
  {
   "cell_type": "markdown",
   "id": "0deab451",
   "metadata": {},
   "source": [
    "## Q3: What is the total number of invoices and sales by payment method?"
   ]
  },
  {
   "cell_type": "code",
   "execution_count": 18,
   "id": "637fd22b",
   "metadata": {},
   "outputs": [
    {
     "name": "stdout",
     "output_type": "stream",
     "text": [
      " * sqlite:///Customer_Shopping_DB.db\n",
      "Done.\n"
     ]
    },
    {
     "data": {
      "text/html": [
       "<table>\n",
       "    <thead>\n",
       "        <tr>\n",
       "            <th>payment_method</th>\n",
       "            <th>total_invoices</th>\n",
       "            <th>total_sales</th>\n",
       "        </tr>\n",
       "    </thead>\n",
       "    <tbody>\n",
       "        <tr>\n",
       "            <td>Cash</td>\n",
       "            <td>44447</td>\n",
       "            <td>30705030.98</td>\n",
       "        </tr>\n",
       "        <tr>\n",
       "            <td>Credit Card</td>\n",
       "            <td>34931</td>\n",
       "            <td>24051476.93</td>\n",
       "        </tr>\n",
       "        <tr>\n",
       "            <td>Debit Card</td>\n",
       "            <td>20079</td>\n",
       "            <td>13794858.0</td>\n",
       "        </tr>\n",
       "    </tbody>\n",
       "</table>"
      ],
      "text/plain": [
       "[('Cash', 44447, 30705030.98),\n",
       " ('Credit Card', 34931, 24051476.93),\n",
       " ('Debit Card', 20079, 13794858.0)]"
      ]
     },
     "execution_count": 18,
     "metadata": {},
     "output_type": "execute_result"
    }
   ],
   "source": [
    "%%sql SELECT payment_method, COUNT(*) AS total_invoices, ROUND(sum(price), 2) AS total_sales FROM CUSTOMER_SHOPPING_DATA \n",
    "GROUP BY payment_method;"
   ]
  },
  {
   "cell_type": "markdown",
   "id": "9f7e7e6f",
   "metadata": {},
   "source": [
    "## Q4: What is the average sales for all product categories?"
   ]
  },
  {
   "cell_type": "code",
   "execution_count": 20,
   "id": "cde75487",
   "metadata": {},
   "outputs": [
    {
     "name": "stdout",
     "output_type": "stream",
     "text": [
      " * sqlite:///Customer_Shopping_DB.db\n",
      "Done.\n"
     ]
    },
    {
     "data": {
      "text/html": [
       "<table>\n",
       "    <thead>\n",
       "        <tr>\n",
       "            <th>category</th>\n",
       "            <th>average_sales</th>\n",
       "        </tr>\n",
       "    </thead>\n",
       "    <tbody>\n",
       "        <tr>\n",
       "            <td>Technology</td>\n",
       "            <td>3156.94</td>\n",
       "        </tr>\n",
       "        <tr>\n",
       "            <td>Shoes</td>\n",
       "            <td>1807.39</td>\n",
       "        </tr>\n",
       "        <tr>\n",
       "            <td>Clothing</td>\n",
       "            <td>901.08</td>\n",
       "        </tr>\n",
       "        <tr>\n",
       "            <td>Cosmetics</td>\n",
       "            <td>122.45</td>\n",
       "        </tr>\n",
       "        <tr>\n",
       "            <td>Toys</td>\n",
       "            <td>107.73</td>\n",
       "        </tr>\n",
       "        <tr>\n",
       "            <td>Books</td>\n",
       "            <td>45.57</td>\n",
       "        </tr>\n",
       "        <tr>\n",
       "            <td>Souvenir</td>\n",
       "            <td>34.89</td>\n",
       "        </tr>\n",
       "        <tr>\n",
       "            <td>Food &amp; Beverage</td>\n",
       "            <td>15.67</td>\n",
       "        </tr>\n",
       "    </tbody>\n",
       "</table>"
      ],
      "text/plain": [
       "[('Technology', 3156.94),\n",
       " ('Shoes', 1807.39),\n",
       " ('Clothing', 901.08),\n",
       " ('Cosmetics', 122.45),\n",
       " ('Toys', 107.73),\n",
       " ('Books', 45.57),\n",
       " ('Souvenir', 34.89),\n",
       " ('Food & Beverage', 15.67)]"
      ]
     },
     "execution_count": 20,
     "metadata": {},
     "output_type": "execute_result"
    }
   ],
   "source": [
    "%%sql \n",
    "SELECT category, ROUND(avg(price),2) AS average_sales FROM CUSTOMER_SHOPPING_DATA \n",
    "GROUP BY category \n",
    "ORDER BY average_sales DESC;"
   ]
  },
  {
   "cell_type": "markdown",
   "id": "a59d271a",
   "metadata": {},
   "source": [
    "## Q5: What is the top 3 most popular product categories and their total sales?"
   ]
  },
  {
   "cell_type": "code",
   "execution_count": 21,
   "id": "344c4366",
   "metadata": {},
   "outputs": [
    {
     "name": "stdout",
     "output_type": "stream",
     "text": [
      " * sqlite:///Customer_Shopping_DB.db\n",
      "Done.\n"
     ]
    },
    {
     "data": {
      "text/html": [
       "<table>\n",
       "    <thead>\n",
       "        <tr>\n",
       "            <th>category</th>\n",
       "            <th>total_sales</th>\n",
       "        </tr>\n",
       "    </thead>\n",
       "    <tbody>\n",
       "        <tr>\n",
       "            <td>Clothing</td>\n",
       "            <td>31075684.64</td>\n",
       "        </tr>\n",
       "        <tr>\n",
       "            <td>Shoes</td>\n",
       "            <td>18135336.89</td>\n",
       "        </tr>\n",
       "        <tr>\n",
       "            <td>Technology</td>\n",
       "            <td>15772050.0</td>\n",
       "        </tr>\n",
       "    </tbody>\n",
       "</table>"
      ],
      "text/plain": [
       "[('Clothing', 31075684.64), ('Shoes', 18135336.89), ('Technology', 15772050.0)]"
      ]
     },
     "execution_count": 21,
     "metadata": {},
     "output_type": "execute_result"
    }
   ],
   "source": [
    "%%sql \n",
    "SELECT category, ROUND(sum(price), 2) AS total_sales FROM CUSTOMER_SHOPPING_DATA \n",
    "GROUP BY category\n",
    "ORDER BY sum(price)\n",
    "DESC LIMIT 3;"
   ]
  },
  {
   "cell_type": "markdown",
   "id": "2a81e088",
   "metadata": {},
   "source": [
    "## Q6: Which shopping mall contributed to the lowest sales?"
   ]
  },
  {
   "cell_type": "code",
   "execution_count": 22,
   "id": "e6dadc3e",
   "metadata": {},
   "outputs": [
    {
     "name": "stdout",
     "output_type": "stream",
     "text": [
      " * sqlite:///Customer_Shopping_DB.db\n",
      "Done.\n"
     ]
    },
    {
     "data": {
      "text/html": [
       "<table>\n",
       "    <thead>\n",
       "        <tr>\n",
       "            <th>shopping_mall</th>\n",
       "            <th>total_sales</th>\n",
       "        </tr>\n",
       "    </thead>\n",
       "    <tbody>\n",
       "        <tr>\n",
       "            <td>Forum Istanbul</td>\n",
       "            <td>3336073.82</td>\n",
       "        </tr>\n",
       "    </tbody>\n",
       "</table>"
      ],
      "text/plain": [
       "[('Forum Istanbul', 3336073.82)]"
      ]
     },
     "execution_count": 22,
     "metadata": {},
     "output_type": "execute_result"
    }
   ],
   "source": [
    "%%sql \n",
    "SELECT shopping_mall, ROUND(sum(price), 2) AS total_sales FROM CUSTOMER_SHOPPING_DATA\n",
    "GROUP BY shopping_mall\n",
    "ORDER BY sum(price)\n",
    "ASC LIMIT 1;"
   ]
  },
  {
   "cell_type": "markdown",
   "id": "59f6ad06",
   "metadata": {},
   "source": [
    "## Q7: Categorize the sales transactions into months and find out which month contributed the most sales in 2022."
   ]
  },
  {
   "cell_type": "code",
   "execution_count": 23,
   "id": "81f486fe",
   "metadata": {},
   "outputs": [
    {
     "name": "stdout",
     "output_type": "stream",
     "text": [
      " * sqlite:///Customer_Shopping_DB.db\n",
      "Done.\n"
     ]
    },
    {
     "data": {
      "text/html": [
       "<table>\n",
       "    <thead>\n",
       "        <tr>\n",
       "            <th>month</th>\n",
       "            <th>total_invoices</th>\n",
       "            <th>total_sales</th>\n",
       "        </tr>\n",
       "    </thead>\n",
       "    <tbody>\n",
       "        <tr>\n",
       "            <td>01-2021</td>\n",
       "            <td>3835</td>\n",
       "            <td>2656422.78</td>\n",
       "        </tr>\n",
       "        <tr>\n",
       "            <td>02-2021</td>\n",
       "            <td>3407</td>\n",
       "            <td>2358636.34</td>\n",
       "        </tr>\n",
       "        <tr>\n",
       "            <td>03-2021</td>\n",
       "            <td>3813</td>\n",
       "            <td>2618434.14</td>\n",
       "        </tr>\n",
       "        <tr>\n",
       "            <td>04-2021</td>\n",
       "            <td>3724</td>\n",
       "            <td>2558825.62</td>\n",
       "        </tr>\n",
       "        <tr>\n",
       "            <td>05-2021</td>\n",
       "            <td>3848</td>\n",
       "            <td>2662369.93</td>\n",
       "        </tr>\n",
       "        <tr>\n",
       "            <td>06-2021</td>\n",
       "            <td>3783</td>\n",
       "            <td>2547239.73</td>\n",
       "        </tr>\n",
       "        <tr>\n",
       "            <td>07-2021</td>\n",
       "            <td>3984</td>\n",
       "            <td>2802468.58</td>\n",
       "        </tr>\n",
       "        <tr>\n",
       "            <td>08-2021</td>\n",
       "            <td>3723</td>\n",
       "            <td>2632303.32</td>\n",
       "        </tr>\n",
       "        <tr>\n",
       "            <td>09-2021</td>\n",
       "            <td>3670</td>\n",
       "            <td>2530305.88</td>\n",
       "        </tr>\n",
       "        <tr>\n",
       "            <td>10-2021</td>\n",
       "            <td>3916</td>\n",
       "            <td>2782418.4</td>\n",
       "        </tr>\n",
       "        <tr>\n",
       "            <td>11-2021</td>\n",
       "            <td>3798</td>\n",
       "            <td>2547152.35</td>\n",
       "        </tr>\n",
       "        <tr>\n",
       "            <td>12-2021</td>\n",
       "            <td>3881</td>\n",
       "            <td>2619727.56</td>\n",
       "        </tr>\n",
       "        <tr>\n",
       "            <td>01-2022</td>\n",
       "            <td>3847</td>\n",
       "            <td>2656149.96</td>\n",
       "        </tr>\n",
       "        <tr>\n",
       "            <td>02-2022</td>\n",
       "            <td>3447</td>\n",
       "            <td>2318201.08</td>\n",
       "        </tr>\n",
       "        <tr>\n",
       "            <td>03-2022</td>\n",
       "            <td>3947</td>\n",
       "            <td>2705190.76</td>\n",
       "        </tr>\n",
       "        <tr>\n",
       "            <td>04-2022</td>\n",
       "            <td>3763</td>\n",
       "            <td>2543653.14</td>\n",
       "        </tr>\n",
       "        <tr>\n",
       "            <td>05-2022</td>\n",
       "            <td>3849</td>\n",
       "            <td>2684556.89</td>\n",
       "        </tr>\n",
       "        <tr>\n",
       "            <td>06-2022</td>\n",
       "            <td>3798</td>\n",
       "            <td>2613106.01</td>\n",
       "        </tr>\n",
       "        <tr>\n",
       "            <td>07-2022</td>\n",
       "            <td>3893</td>\n",
       "            <td>2749554.99</td>\n",
       "        </tr>\n",
       "        <tr>\n",
       "            <td>08-2022</td>\n",
       "            <td>3912</td>\n",
       "            <td>2638238.71</td>\n",
       "        </tr>\n",
       "        <tr>\n",
       "            <td>09-2022</td>\n",
       "            <td>3683</td>\n",
       "            <td>2584908.39</td>\n",
       "        </tr>\n",
       "        <tr>\n",
       "            <td>10-2022</td>\n",
       "            <td>3848</td>\n",
       "            <td>2755839.69</td>\n",
       "        </tr>\n",
       "        <tr>\n",
       "            <td>11-2022</td>\n",
       "            <td>3765</td>\n",
       "            <td>2447988.76</td>\n",
       "        </tr>\n",
       "        <tr>\n",
       "            <td>12-2022</td>\n",
       "            <td>3799</td>\n",
       "            <td>2675437.8</td>\n",
       "        </tr>\n",
       "        <tr>\n",
       "            <td>01-2023</td>\n",
       "            <td>3926</td>\n",
       "            <td>2620053.89</td>\n",
       "        </tr>\n",
       "        <tr>\n",
       "            <td>02-2023</td>\n",
       "            <td>3628</td>\n",
       "            <td>2558459.9</td>\n",
       "        </tr>\n",
       "        <tr>\n",
       "            <td>03-2023</td>\n",
       "            <td>970</td>\n",
       "            <td>683721.31</td>\n",
       "        </tr>\n",
       "    </tbody>\n",
       "</table>"
      ],
      "text/plain": [
       "[('01-2021', 3835, 2656422.78),\n",
       " ('02-2021', 3407, 2358636.34),\n",
       " ('03-2021', 3813, 2618434.14),\n",
       " ('04-2021', 3724, 2558825.62),\n",
       " ('05-2021', 3848, 2662369.93),\n",
       " ('06-2021', 3783, 2547239.73),\n",
       " ('07-2021', 3984, 2802468.58),\n",
       " ('08-2021', 3723, 2632303.32),\n",
       " ('09-2021', 3670, 2530305.88),\n",
       " ('10-2021', 3916, 2782418.4),\n",
       " ('11-2021', 3798, 2547152.35),\n",
       " ('12-2021', 3881, 2619727.56),\n",
       " ('01-2022', 3847, 2656149.96),\n",
       " ('02-2022', 3447, 2318201.08),\n",
       " ('03-2022', 3947, 2705190.76),\n",
       " ('04-2022', 3763, 2543653.14),\n",
       " ('05-2022', 3849, 2684556.89),\n",
       " ('06-2022', 3798, 2613106.01),\n",
       " ('07-2022', 3893, 2749554.99),\n",
       " ('08-2022', 3912, 2638238.71),\n",
       " ('09-2022', 3683, 2584908.39),\n",
       " ('10-2022', 3848, 2755839.69),\n",
       " ('11-2022', 3765, 2447988.76),\n",
       " ('12-2022', 3799, 2675437.8),\n",
       " ('01-2023', 3926, 2620053.89),\n",
       " ('02-2023', 3628, 2558459.9),\n",
       " ('03-2023', 970, 683721.31)]"
      ]
     },
     "execution_count": 23,
     "metadata": {},
     "output_type": "execute_result"
    }
   ],
   "source": [
    "%%sql \n",
    "SELECT strftime('%m-%Y', invoice_date) AS 'month', COUNT(*) AS total_invoices, ROUND(sum(price), 2) AS total_sales\n",
    "FROM CUSTOMER_SHOPPING_DATA\n",
    "GROUP BY month\n",
    "ORDER BY strftime('%Y', invoice_date);"
   ]
  },
  {
   "cell_type": "code",
   "execution_count": 24,
   "id": "8d15a543",
   "metadata": {},
   "outputs": [
    {
     "name": "stdout",
     "output_type": "stream",
     "text": [
      " * sqlite:///Customer_Shopping_DB.db\n",
      "Done.\n"
     ]
    },
    {
     "data": {
      "text/html": [
       "<table>\n",
       "    <thead>\n",
       "        <tr>\n",
       "            <th>month</th>\n",
       "            <th>total_invoices</th>\n",
       "            <th>total sales</th>\n",
       "        </tr>\n",
       "    </thead>\n",
       "    <tbody>\n",
       "        <tr>\n",
       "            <td>10-2022</td>\n",
       "            <td>3848</td>\n",
       "            <td>2755839.69</td>\n",
       "        </tr>\n",
       "    </tbody>\n",
       "</table>"
      ],
      "text/plain": [
       "[('10-2022', 3848, 2755839.69)]"
      ]
     },
     "execution_count": 24,
     "metadata": {},
     "output_type": "execute_result"
    }
   ],
   "source": [
    "%%sql \n",
    "SELECT month, total_invoices, \"total sales\" \n",
    "FROM (\n",
    "SELECT strftime('%m-%Y', invoice_date) AS month, COUNT(*) AS total_invoices, ROUND(sum(price), 2) AS \"total sales\"\n",
    "FROM CUSTOMER_SHOPPING_DATA\n",
    "GROUP BY month\n",
    "HAVING month LIKE '%2022'\n",
    "ORDER BY strftime('%Y', invoice_date)\n",
    ")\n",
    "ORDER BY \"total sales\" DESC\n",
    "LIMIT 1;"
   ]
  },
  {
   "cell_type": "code",
   "execution_count": 25,
   "id": "cce73abd",
   "metadata": {},
   "outputs": [],
   "source": [
    "#Close Connection\n",
    "con.close()"
   ]
  }
 ],
 "metadata": {
  "kernelspec": {
   "display_name": "Python 3 (ipykernel)",
   "language": "python",
   "name": "python3"
  },
  "language_info": {
   "codemirror_mode": {
    "name": "ipython",
    "version": 3
   },
   "file_extension": ".py",
   "mimetype": "text/x-python",
   "name": "python",
   "nbconvert_exporter": "python",
   "pygments_lexer": "ipython3",
   "version": "3.9.12"
  }
 },
 "nbformat": 4,
 "nbformat_minor": 5
}
